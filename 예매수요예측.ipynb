{
  "nbformat": 4,
  "nbformat_minor": 0,
  "metadata": {
    "colab": {
      "provenance": [],
      "collapsed_sections": [
        "8STh1_i09F3a"
      ],
      "authorship_tag": "ABX9TyPYeSIwsAtgHcHWghKsjWSX",
      "include_colab_link": true
    },
    "kernelspec": {
      "name": "python3",
      "display_name": "Python 3"
    },
    "language_info": {
      "name": "python"
    }
  },
  "cells": [
    {
      "cell_type": "markdown",
      "metadata": {
        "id": "view-in-github",
        "colab_type": "text"
      },
      "source": [
        "<a href=\"https://colab.research.google.com/github/ev1025/CodeStates-Project2/blob/main/%EC%98%88%EB%A7%A4%EC%88%98%EC%9A%94%EC%98%88%EC%B8%A1.ipynb\" target=\"_parent\"><img src=\"https://colab.research.google.com/assets/colab-badge.svg\" alt=\"Open In Colab\"/></a>"
      ]
    },
    {
      "cell_type": "markdown",
      "source": [
        "# 프로젝트 목표(기업)"
      ],
      "metadata": {
        "id": "8STh1_i09F3a"
      }
    },
    {
      "cell_type": "markdown",
      "source": [
        "### 결과 및 측정 데이터 분석 및 예매 예측"
      ],
      "metadata": {
        "id": "2Ala9UW_B4nf"
      }
    },
    {
      "cell_type": "markdown",
      "source": [
        "1. 지난 경기 관람 만족도 연계 다음경기 예매 예측\n",
        "   - 이겼다\n",
        "   - 이겼지만 마음에 들지 않음\n",
        "   - 무승부\n",
        "   - 졌지만 잘싸웠다\n",
        "   - 졌다   \n",
        "2. 관람여부와 경기결과 및 순위에 따른 예매 예측(+고급좌석 예매 예측)\n",
        "   - **관람**\n",
        "      - 승리\n",
        "        - 상위\n",
        "        - 중위\n",
        "        - 하위\n",
        "      - 패배\n",
        "        - 상위\n",
        "        - 중위\n",
        "        - 하위\n",
        "   - **비관람**\n",
        "      - 승리\n",
        "        - 상위\n",
        "        - 중위\n",
        "        - 하위\n",
        "      - 패배\n",
        "        - 상위\n",
        "        - 중위\n",
        "        - 하위\n",
        "     "
      ],
      "metadata": {
        "id": "Fy3GZvKl9Lol"
      }
    },
    {
      "cell_type": "markdown",
      "source": [
        "### 예매 촉진 지표 분석 및 적정 프로모션 수준 예측"
      ],
      "metadata": {
        "id": "YhdfCIYMB_Z6"
      }
    },
    {
      "cell_type": "markdown",
      "source": [
        "1. 경기 결과 및 순위에 따른 가격 인상,할인,프로모션 진행의 실효성\n",
        "   - 가격 인상\n",
        "   - 가격 할인\n",
        "   - 프로모션\n",
        "2. 경기 관람 만족도에 따른 분석 및 예측 모델링\n",
        "   - 만족도\n",
        "      - 경기장 시설(청결도, 온도조절)\n",
        "      - 경기장 운영 \n",
        "      - 경기내용\n",
        "      - 음식의 맛\n",
        "      - 관람료"
      ],
      "metadata": {
        "id": "ZtfyVv9CCODm"
      }
    },
    {
      "cell_type": "markdown",
      "source": [
        "### 예매 촉진을 위한 프로모션 대상자 세분화 및 촉진 방법 제안"
      ],
      "metadata": {
        "id": "Bxz750S7D_Co"
      }
    },
    {
      "cell_type": "markdown",
      "source": [
        "1. 고객 세분화 및 액션아이템 고안\n",
        "  - 고객 세분화\n",
        "    - 적절한 할인율\n",
        "    - 적절한 프로모션\n",
        "    - 고급좌석이용고객 별도 세분화"
      ],
      "metadata": {
        "id": "579E2dw3EQP4"
      }
    },
    {
      "cell_type": "markdown",
      "source": [
        "### 가설"
      ],
      "metadata": {
        "id": "WLJn__WVFKiJ"
      }
    },
    {
      "cell_type": "markdown",
      "source": [
        "- 지난경기의 관람 여부, 순위, 경기결과에 따라 예매 수가 다를 것이다.\n",
        "- 위의 가설에 해당하지 않는 고객군이 존재 할 것이다.\n",
        "- 예매유도에 반응하는 고객군이 있을 것이다.\n",
        "- 고급좌석 이용을 예측할 수 있다."
      ],
      "metadata": {
        "id": "06B4YF7SFM1J"
      }
    },
    {
      "cell_type": "markdown",
      "source": [
        "# 나의 생각"
      ],
      "metadata": {
        "id": "jvqKb0kmB82q"
      }
    },
    {
      "cell_type": "markdown",
      "source": [
        "### 기업에서 원하는 것"
      ],
      "metadata": {
        "id": "ioj5MaJOGuL3"
      }
    },
    {
      "cell_type": "markdown",
      "source": [
        "- 관람여부, 경기결과, 순위가 예매에 미치는 영향 분석 및 모델링\n",
        "- 마케팅에 반응하는 고객층을 찾아서 수익 극대화\n",
        "- 고급좌석 이용률을 높이는 방법에 대한 고민"
      ],
      "metadata": {
        "id": "-6oSTy_JGCD2"
      }
    },
    {
      "cell_type": "markdown",
      "source": [
        "### 가설"
      ],
      "metadata": {
        "id": "CnlRKvjrIb5o"
      }
    },
    {
      "cell_type": "markdown",
      "source": [
        "- 일반팬과 골수팬을 분류할 수 있다.\n",
        "- 경기의 승패는 예매와 관련이 없을 것이다.\n",
        "- 관람이 뜸한 충성고객을 찾아서 다시 불러들일 수 있다."
      ],
      "metadata": {
        "id": "JwgAcgl1IdY-"
      }
    },
    {
      "cell_type": "markdown",
      "source": [
        "### 프로모션(아이디어)"
      ],
      "metadata": {
        "id": "UbrkTcHAHORl"
      }
    },
    {
      "cell_type": "markdown",
      "source": [
        "- 질 것 같은 경기일 수록 응원의 힘으로 승리를 이끌어야 한다.   \n",
        "=> 전력상 패배가 예상되는 팀의 좌석을 예매한 고객에 한해서 그 경기가 승리할 경우 고급좌석 예매 할인 쿠폰 제공\n",
        "\n",
        "- 승부예측    \n",
        "경기의 스코어를 맞추는 고객에 한하여 쿠폰지급\n",
        "\n"
      ],
      "metadata": {
        "id": "S3iZuTjn_keA"
      }
    },
    {
      "cell_type": "markdown",
      "source": [
        "# 데이터"
      ],
      "metadata": {
        "id": "7l2mFVM1_IGB"
      }
    },
    {
      "cell_type": "code",
      "source": [
        "from google.colab import drive\n",
        "drive.mount('/content/drive')"
      ],
      "metadata": {
        "id": "VTzZmmTj_I-m",
        "colab": {
          "base_uri": "https://localhost:8080/"
        },
        "outputId": "c0387c22-846f-4f79-c9c2-f72fa49f38b0"
      },
      "execution_count": 1,
      "outputs": [
        {
          "output_type": "stream",
          "name": "stdout",
          "text": [
            "Mounted at /content/drive\n"
          ]
        }
      ]
    },
    {
      "cell_type": "code",
      "source": [
        "import pandas as pd\n",
        "df1 = pd.read_csv('/content/drive/MyDrive/더케이/membership.csv')\n",
        "df2 = pd.read_csv('/content/drive/MyDrive/더케이/reserve_ticket_.csv')\n",
        "df3 = pd.read_csv('/content/drive/MyDrive/더케이/survey_complete_.csv')\n",
        "df4 = pd.read_csv('/content/drive/MyDrive/더케이/survey_item.csv')\n",
        "df5 = pd.read_csv('/content/drive/MyDrive/더케이/survey_main.csv')\n",
        "df6 = pd.read_csv('/content/drive/MyDrive/더케이/survey_result.csv')\n",
        "df7 = pd.read_excel('/content/drive/MyDrive/더케이/d95e264436cf42de.xlsx',engine = 'openpyxl') # excel 여는법"
      ],
      "metadata": {
        "id": "s96BfBix_KW8"
      },
      "execution_count": 13,
      "outputs": []
    },
    {
      "cell_type": "code",
      "source": [
        "# xml 여는법 다시 찾아보기\n",
        "# 인코딩 깨질 때는 encode -> decode 다시 할 것\n",
        "import xml.etree.ElementTree as ET\n",
        "tree = ET.parse('/content/drive/MyDrive/더케이/schedule2022120221019212245.xml', parser=ET.XMLParser(encoding='latin1')) # multi encode오류 날 때 'latin-1',  'iso-8859-5', 'cp1252'\n",
        "root = tree.getroot()\n",
        "\n",
        "df8 = []\n",
        "for i in root: # i.tag , i.attrib 알아보기\n",
        "    i.attrib['yoil'] = i.attrib['yoil'].encode('latin-1').decode('euc-kr')\n",
        "    i.attrib['meet_name'] = i.attrib['meet_name'].encode('latin-1').decode('euc-kr')\n",
        "    i.attrib['home_team_name'] = i.attrib['home_team_name'].encode('latin-1').decode('euc-kr')\n",
        "    i.attrib['away_team_name'] = i.attrib['away_team_name'].encode('latin-1').decode('euc-kr')\n",
        "    i.attrib['game_type_name'] = i.attrib['game_type_name'].encode('latin-1').decode('euc-kr')\n",
        "    i.attrib['field_name'] = i.attrib['field_name'].encode('latin-1').decode('euc-kr')\n",
        "    df8.append(i.attrib)"
      ],
      "metadata": {
        "id": "1c6jDser_LyR"
      },
      "execution_count": 18,
      "outputs": []
    },
    {
      "cell_type": "code",
      "source": [
        "# 리스트 안의 dict[{}]를 데이터프레임으로 만들기\n",
        "empty_df = pd.DataFrame() # 빈 데이터프레임 만들기\n",
        "for i in df8:\n",
        "    i = pd.DataFrame.from_dict(i, orient='index').T # dict를 dataframe으로 만들기\n",
        "    empty_df = empty_df.append(i)                   # 각 dataframe을 빈데이터프레임에 추가\n",
        "empty_df.reset_index(drop=True)"
      ],
      "metadata": {
        "id": "d1bGJhlb_NmE"
      },
      "execution_count": null,
      "outputs": []
    },
    {
      "cell_type": "code",
      "source": [
        "empty_df.to_csv('/content/drive/MyDrive/더케이/schedule.csv', index=False)"
      ],
      "metadata": {
        "id": "6H7WSsqujn1B"
      },
      "execution_count": 20,
      "outputs": []
    },
    {
      "cell_type": "code",
      "source": [
        "a = pd.read_csv('/content/drive/MyDrive/더케이/schedule.csv')"
      ],
      "metadata": {
        "id": "u07b3SzXkPnT"
      },
      "execution_count": null,
      "outputs": []
    }
  ]
}