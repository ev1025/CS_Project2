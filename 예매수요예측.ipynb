{
  "nbformat": 4,
  "nbformat_minor": 0,
  "metadata": {
    "colab": {
      "provenance": [],
      "collapsed_sections": [
        "8STh1_i09F3a"
      ],
      "authorship_tag": "ABX9TyO8ABuauibc0zOn/p1E90xU",
      "include_colab_link": true
    },
    "kernelspec": {
      "name": "python3",
      "display_name": "Python 3"
    },
    "language_info": {
      "name": "python"
    }
  },
  "cells": [
    {
      "cell_type": "markdown",
      "metadata": {
        "id": "view-in-github",
        "colab_type": "text"
      },
      "source": [
        "<a href=\"https://colab.research.google.com/github/ev1025/CodeStates-Project2/blob/main/%EC%98%88%EB%A7%A4%EC%88%98%EC%9A%94%EC%98%88%EC%B8%A1.ipynb\" target=\"_parent\"><img src=\"https://colab.research.google.com/assets/colab-badge.svg\" alt=\"Open In Colab\"/></a>"
      ]
    },
    {
      "cell_type": "markdown",
      "source": [
        "# 프로젝트 목표(기업)"
      ],
      "metadata": {
        "id": "8STh1_i09F3a"
      }
    },
    {
      "cell_type": "markdown",
      "source": [
        "### 결과 및 측정 데이터 분석 및 예매 예측"
      ],
      "metadata": {
        "id": "2Ala9UW_B4nf"
      }
    },
    {
      "cell_type": "markdown",
      "source": [
        "1. 지난 경기 관람 만족도 연계 다음경기 예매 예측\n",
        "   - 이겼다\n",
        "   - 이겼지만 마음에 들지 않음\n",
        "   - 무승부\n",
        "   - 졌지만 잘싸웠다\n",
        "   - 졌다   \n",
        "2. 관람여부와 경기결과 및 순위에 따른 예매 예측(+고급좌석 예매 예측)\n",
        "   - **관람**\n",
        "      - 승리\n",
        "        - 상위\n",
        "        - 중위\n",
        "        - 하위\n",
        "      - 패배\n",
        "        - 상위\n",
        "        - 중위\n",
        "        - 하위\n",
        "   - **비관람**\n",
        "      - 승리\n",
        "        - 상위\n",
        "        - 중위\n",
        "        - 하위\n",
        "      - 패배\n",
        "        - 상위\n",
        "        - 중위\n",
        "        - 하위\n",
        "     "
      ],
      "metadata": {
        "id": "Fy3GZvKl9Lol"
      }
    },
    {
      "cell_type": "markdown",
      "source": [
        "### 예매 촉진 지표 분석 및 적정 프로모션 수준 예측"
      ],
      "metadata": {
        "id": "YhdfCIYMB_Z6"
      }
    },
    {
      "cell_type": "markdown",
      "source": [
        "1. 경기 결과 및 순위에 따른 가격 인상,할인,프로모션 진행의 실효성\n",
        "   - 가격 인상\n",
        "   - 가격 할인\n",
        "   - 프로모션\n",
        "2. 경기 관람 만족도에 따른 분석 및 예측 모델링\n",
        "   - 만족도\n",
        "      - 경기장 시설(청결도, 온도조절)\n",
        "      - 경기장 운영 \n",
        "      - 경기내용\n",
        "      - 음식의 맛\n",
        "      - 관람료"
      ],
      "metadata": {
        "id": "ZtfyVv9CCODm"
      }
    },
    {
      "cell_type": "markdown",
      "source": [
        "### 예매 촉진을 위한 프로모션 대상자 세분화 및 촉진 방법 제안"
      ],
      "metadata": {
        "id": "Bxz750S7D_Co"
      }
    },
    {
      "cell_type": "markdown",
      "source": [
        "1. 고객 세분화 및 액션아이템 고안\n",
        "  - 고객 세분화\n",
        "    - 적절한 할인율\n",
        "    - 적절한 프로모션\n",
        "    - 고급좌석이용고객 별도 세분화"
      ],
      "metadata": {
        "id": "579E2dw3EQP4"
      }
    },
    {
      "cell_type": "markdown",
      "source": [
        "### 가설"
      ],
      "metadata": {
        "id": "WLJn__WVFKiJ"
      }
    },
    {
      "cell_type": "markdown",
      "source": [
        "- 지난경기의 관람 여부, 순위, 경기결과에 따라 예매 수가 다를 것이다.\n",
        "- 위의 가설에 해당하지 않는 고객군이 존재 할 것이다.\n",
        "- 예매유도에 반응하는 고객군이 있을 것이다.\n",
        "- 고급좌석 이용을 예측할 수 있다."
      ],
      "metadata": {
        "id": "06B4YF7SFM1J"
      }
    },
    {
      "cell_type": "markdown",
      "source": [
        "# 나의 생각"
      ],
      "metadata": {
        "id": "jvqKb0kmB82q"
      }
    },
    {
      "cell_type": "markdown",
      "source": [
        "### 기업에서 원하는 것"
      ],
      "metadata": {
        "id": "ioj5MaJOGuL3"
      }
    },
    {
      "cell_type": "markdown",
      "source": [
        "- 관람여부, 경기결과, 순위가 예매에 미치는 영향 분석 및 모델링\n",
        "- 마케팅에 반응하는 고객층을 찾아서 수익 극대화\n",
        "- 고급좌석 이용률을 높이는 방법에 대한 고민"
      ],
      "metadata": {
        "id": "-6oSTy_JGCD2"
      }
    },
    {
      "cell_type": "markdown",
      "source": [
        "### 가설"
      ],
      "metadata": {
        "id": "CnlRKvjrIb5o"
      }
    },
    {
      "cell_type": "markdown",
      "source": [
        "- 일반팬과 골수팬을 분류할 수 있다.\n",
        "- 경기의 승패는 예매와 관련이 없을 것이다.\n",
        "- 관람이 뜸한 충성고객을 찾아서 다시 불러들일 수 있다."
      ],
      "metadata": {
        "id": "JwgAcgl1IdY-"
      }
    },
    {
      "cell_type": "markdown",
      "source": [
        "### 프로모션(아이디어)"
      ],
      "metadata": {
        "id": "UbrkTcHAHORl"
      }
    },
    {
      "cell_type": "markdown",
      "source": [
        "- 질 것 같은 경기일 수록 응원의 힘으로 승리를 이끌어야 한다.   \n",
        "=> 전력상 패배가 예상되는 팀의 좌석을 예매한 고객에 한해서 그 경기가 승리할 경우 고급좌석 예매 할인 쿠폰 제공\n",
        "\n",
        "- 승부예측    \n",
        "경기의 스코어를 맞추는 고객에 한하여 쿠폰지급\n",
        "\n"
      ],
      "metadata": {
        "id": "S3iZuTjn_keA"
      }
    },
    {
      "cell_type": "markdown",
      "source": [
        "# 데이터"
      ],
      "metadata": {
        "id": "v8cJMedenTVu"
      }
    },
    {
      "cell_type": "markdown",
      "source": [
        "## 데이터 전처리"
      ],
      "metadata": {
        "id": "7l2mFVM1_IGB"
      }
    },
    {
      "cell_type": "code",
      "source": [
        "import matplotlib.pyplot as plt\n",
        "import seaborn as sns\n",
        "import numpy as np\n",
        "import pandas as pd"
      ],
      "metadata": {
        "id": "6rsSlCZDuFEY"
      },
      "execution_count": 1,
      "outputs": []
    },
    {
      "cell_type": "code",
      "source": [
        "from google.colab import drive\n",
        "drive.mount('/content/drive')"
      ],
      "metadata": {
        "id": "VTzZmmTj_I-m",
        "colab": {
          "base_uri": "https://localhost:8080/"
        },
        "outputId": "bc03961f-38c7-4af5-d4dc-f8c91da0ceff"
      },
      "execution_count": 2,
      "outputs": [
        {
          "output_type": "stream",
          "name": "stdout",
          "text": [
            "Drive already mounted at /content/drive; to attempt to forcibly remount, call drive.mount(\"/content/drive\", force_remount=True).\n"
          ]
        }
      ]
    },
    {
      "cell_type": "code",
      "source": [
        "df1 = pd.read_csv('/content/drive/MyDrive/더케이/membership.csv')       # 고객테이블\n",
        "df2 = pd.read_csv('/content/drive/MyDrive/더케이/reserve_ticket_.csv')  # 티켓\n",
        "df3 = pd.read_excel('/content/drive/MyDrive/더케이/d95e264436cf42de.xlsx',engine = 'openpyxl',names=['game_date','rank'], header=None) # 일자별 순위, (excel파일 여는방법)\n",
        "df5 = pd.read_csv('/content/drive/MyDrive/더케이/survey_complete_.csv') # 설문1\n",
        "df6 = pd.read_csv('/content/drive/MyDrive/더케이/survey_item.csv')      # 설문2\n",
        "df7 = pd.read_csv('/content/drive/MyDrive/더케이/survey_main.csv')      # 설문3\n",
        "df8 = pd.read_csv('/content/drive/MyDrive/더케이/survey_result.csv')    # 설문4\n"
      ],
      "metadata": {
        "id": "s96BfBix_KW8"
      },
      "execution_count": 3,
      "outputs": []
    },
    {
      "cell_type": "code",
      "source": [
        "# df4 경기결과 및 관중 수 \n",
        "# xml 여는법 다시 찾아보기\n",
        "# 인코딩 깨질 때는 encode -> decode 다시 할 것\n",
        "import xml.etree.ElementTree as ET\n",
        "tree = ET.parse('/content/drive/MyDrive/더케이/schedule2022120221019212245.xml', parser=ET.XMLParser(encoding='latin1')) # multi encode오류 날 때 'latin-1',  'iso-8859-5', 'cp1252'\n",
        "root = tree.getroot()\n",
        "\n",
        "empty_list = []\n",
        "for i in root: # i.tag , i.attrib 알아보기\n",
        "    i.attrib['yoil'] = i.attrib['yoil'].encode('latin-1').decode('euc-kr')\n",
        "    i.attrib['meet_name'] = i.attrib['meet_name'].encode('latin-1').decode('euc-kr')\n",
        "    i.attrib['home_team_name'] = i.attrib['home_team_name'].encode('latin-1').decode('euc-kr')\n",
        "    i.attrib['away_team_name'] = i.attrib['away_team_name'].encode('latin-1').decode('euc-kr')\n",
        "    i.attrib['game_type_name'] = i.attrib['game_type_name'].encode('latin-1').decode('euc-kr')\n",
        "    i.attrib['field_name'] = i.attrib['field_name'].encode('latin-1').decode('euc-kr')\n",
        "    empty_list.append(i.attrib)"
      ],
      "metadata": {
        "id": "1c6jDser_LyR"
      },
      "execution_count": 4,
      "outputs": []
    },
    {
      "cell_type": "code",
      "source": [
        "# 리스트 안의 dict[{}]를 데이터프레임으로 만들기\n",
        "empty_df = pd.DataFrame() # 빈 데이터프레임 만들기\n",
        "for i in empty_list:\n",
        "    i = pd.DataFrame.from_dict(i, orient='index').T # dict를 dataframe으로 만들기\n",
        "    empty_df = empty_df.append(i)                   # 각 dataframe을 빈데이터프레임에 추가\n",
        "df4 = empty_df.reset_index(drop=True)"
      ],
      "metadata": {
        "id": "d1bGJhlb_NmE"
      },
      "execution_count": 5,
      "outputs": []
    },
    {
      "cell_type": "code",
      "source": [
        "# 잘 저장됐는지 확인\n",
        "# empty_df.to_csv('/content/drive/MyDrive/더케이/schedule.csv', index=False)\n",
        "# a = pd.read_csv('/content/drive/MyDrive/더케이/schedule.csv', parse_dates=[\"game_date\"])"
      ],
      "metadata": {
        "id": "6H7WSsqujn1B"
      },
      "execution_count": 6,
      "outputs": []
    },
    {
      "cell_type": "code",
      "source": [
        "df1"
      ],
      "metadata": {
        "colab": {
          "base_uri": "https://localhost:8080/",
          "height": 424
        },
        "id": "c_czoHg6yhcW",
        "outputId": "5209c257-ed51-4a37-d695-b01b69ce42b6"
      },
      "execution_count": 7,
      "outputs": [
        {
          "output_type": "execute_result",
          "data": {
            "text/plain": [
              "       MB_IDX  MB_AGE  zipcode           job favorite_idx\n",
              "0         112    1983   1439.0           NaN          무고사\n",
              "1         137    1984  22825.0  회사원(사무직/연구직)           정혁\n",
              "2         153    1959  21527.0          자영업자          김도혁\n",
              "3         180    1984   4941.0           NaN         아길라르\n",
              "4         208    1993  23025.0            교사          김도혁\n",
              "...       ...     ...      ...           ...          ...\n",
              "15873  151991    1975  22166.0            교사          송시우\n",
              "15874  151992    2000  21400.0            기타          김보섭\n",
              "15875  151993    1981  10070.0  회사원(사무직/연구직)        에르난데스\n",
              "15876  151994    2006  21074.0     학생(초/중/고)        에르난데스\n",
              "15877  151995    2012  22391.0     학생(초/중/고)          김보섭\n",
              "\n",
              "[15878 rows x 5 columns]"
            ],
            "text/html": [
              "\n",
              "  <div id=\"df-a67f8bd5-c063-45d2-8088-930643a0ed3a\">\n",
              "    <div class=\"colab-df-container\">\n",
              "      <div>\n",
              "<style scoped>\n",
              "    .dataframe tbody tr th:only-of-type {\n",
              "        vertical-align: middle;\n",
              "    }\n",
              "\n",
              "    .dataframe tbody tr th {\n",
              "        vertical-align: top;\n",
              "    }\n",
              "\n",
              "    .dataframe thead th {\n",
              "        text-align: right;\n",
              "    }\n",
              "</style>\n",
              "<table border=\"1\" class=\"dataframe\">\n",
              "  <thead>\n",
              "    <tr style=\"text-align: right;\">\n",
              "      <th></th>\n",
              "      <th>MB_IDX</th>\n",
              "      <th>MB_AGE</th>\n",
              "      <th>zipcode</th>\n",
              "      <th>job</th>\n",
              "      <th>favorite_idx</th>\n",
              "    </tr>\n",
              "  </thead>\n",
              "  <tbody>\n",
              "    <tr>\n",
              "      <th>0</th>\n",
              "      <td>112</td>\n",
              "      <td>1983</td>\n",
              "      <td>1439.0</td>\n",
              "      <td>NaN</td>\n",
              "      <td>무고사</td>\n",
              "    </tr>\n",
              "    <tr>\n",
              "      <th>1</th>\n",
              "      <td>137</td>\n",
              "      <td>1984</td>\n",
              "      <td>22825.0</td>\n",
              "      <td>회사원(사무직/연구직)</td>\n",
              "      <td>정혁</td>\n",
              "    </tr>\n",
              "    <tr>\n",
              "      <th>2</th>\n",
              "      <td>153</td>\n",
              "      <td>1959</td>\n",
              "      <td>21527.0</td>\n",
              "      <td>자영업자</td>\n",
              "      <td>김도혁</td>\n",
              "    </tr>\n",
              "    <tr>\n",
              "      <th>3</th>\n",
              "      <td>180</td>\n",
              "      <td>1984</td>\n",
              "      <td>4941.0</td>\n",
              "      <td>NaN</td>\n",
              "      <td>아길라르</td>\n",
              "    </tr>\n",
              "    <tr>\n",
              "      <th>4</th>\n",
              "      <td>208</td>\n",
              "      <td>1993</td>\n",
              "      <td>23025.0</td>\n",
              "      <td>교사</td>\n",
              "      <td>김도혁</td>\n",
              "    </tr>\n",
              "    <tr>\n",
              "      <th>...</th>\n",
              "      <td>...</td>\n",
              "      <td>...</td>\n",
              "      <td>...</td>\n",
              "      <td>...</td>\n",
              "      <td>...</td>\n",
              "    </tr>\n",
              "    <tr>\n",
              "      <th>15873</th>\n",
              "      <td>151991</td>\n",
              "      <td>1975</td>\n",
              "      <td>22166.0</td>\n",
              "      <td>교사</td>\n",
              "      <td>송시우</td>\n",
              "    </tr>\n",
              "    <tr>\n",
              "      <th>15874</th>\n",
              "      <td>151992</td>\n",
              "      <td>2000</td>\n",
              "      <td>21400.0</td>\n",
              "      <td>기타</td>\n",
              "      <td>김보섭</td>\n",
              "    </tr>\n",
              "    <tr>\n",
              "      <th>15875</th>\n",
              "      <td>151993</td>\n",
              "      <td>1981</td>\n",
              "      <td>10070.0</td>\n",
              "      <td>회사원(사무직/연구직)</td>\n",
              "      <td>에르난데스</td>\n",
              "    </tr>\n",
              "    <tr>\n",
              "      <th>15876</th>\n",
              "      <td>151994</td>\n",
              "      <td>2006</td>\n",
              "      <td>21074.0</td>\n",
              "      <td>학생(초/중/고)</td>\n",
              "      <td>에르난데스</td>\n",
              "    </tr>\n",
              "    <tr>\n",
              "      <th>15877</th>\n",
              "      <td>151995</td>\n",
              "      <td>2012</td>\n",
              "      <td>22391.0</td>\n",
              "      <td>학생(초/중/고)</td>\n",
              "      <td>김보섭</td>\n",
              "    </tr>\n",
              "  </tbody>\n",
              "</table>\n",
              "<p>15878 rows × 5 columns</p>\n",
              "</div>\n",
              "      <button class=\"colab-df-convert\" onclick=\"convertToInteractive('df-a67f8bd5-c063-45d2-8088-930643a0ed3a')\"\n",
              "              title=\"Convert this dataframe to an interactive table.\"\n",
              "              style=\"display:none;\">\n",
              "        \n",
              "  <svg xmlns=\"http://www.w3.org/2000/svg\" height=\"24px\"viewBox=\"0 0 24 24\"\n",
              "       width=\"24px\">\n",
              "    <path d=\"M0 0h24v24H0V0z\" fill=\"none\"/>\n",
              "    <path d=\"M18.56 5.44l.94 2.06.94-2.06 2.06-.94-2.06-.94-.94-2.06-.94 2.06-2.06.94zm-11 1L8.5 8.5l.94-2.06 2.06-.94-2.06-.94L8.5 2.5l-.94 2.06-2.06.94zm10 10l.94 2.06.94-2.06 2.06-.94-2.06-.94-.94-2.06-.94 2.06-2.06.94z\"/><path d=\"M17.41 7.96l-1.37-1.37c-.4-.4-.92-.59-1.43-.59-.52 0-1.04.2-1.43.59L10.3 9.45l-7.72 7.72c-.78.78-.78 2.05 0 2.83L4 21.41c.39.39.9.59 1.41.59.51 0 1.02-.2 1.41-.59l7.78-7.78 2.81-2.81c.8-.78.8-2.07 0-2.86zM5.41 20L4 18.59l7.72-7.72 1.47 1.35L5.41 20z\"/>\n",
              "  </svg>\n",
              "      </button>\n",
              "      \n",
              "  <style>\n",
              "    .colab-df-container {\n",
              "      display:flex;\n",
              "      flex-wrap:wrap;\n",
              "      gap: 12px;\n",
              "    }\n",
              "\n",
              "    .colab-df-convert {\n",
              "      background-color: #E8F0FE;\n",
              "      border: none;\n",
              "      border-radius: 50%;\n",
              "      cursor: pointer;\n",
              "      display: none;\n",
              "      fill: #1967D2;\n",
              "      height: 32px;\n",
              "      padding: 0 0 0 0;\n",
              "      width: 32px;\n",
              "    }\n",
              "\n",
              "    .colab-df-convert:hover {\n",
              "      background-color: #E2EBFA;\n",
              "      box-shadow: 0px 1px 2px rgba(60, 64, 67, 0.3), 0px 1px 3px 1px rgba(60, 64, 67, 0.15);\n",
              "      fill: #174EA6;\n",
              "    }\n",
              "\n",
              "    [theme=dark] .colab-df-convert {\n",
              "      background-color: #3B4455;\n",
              "      fill: #D2E3FC;\n",
              "    }\n",
              "\n",
              "    [theme=dark] .colab-df-convert:hover {\n",
              "      background-color: #434B5C;\n",
              "      box-shadow: 0px 1px 3px 1px rgba(0, 0, 0, 0.15);\n",
              "      filter: drop-shadow(0px 1px 2px rgba(0, 0, 0, 0.3));\n",
              "      fill: #FFFFFF;\n",
              "    }\n",
              "  </style>\n",
              "\n",
              "      <script>\n",
              "        const buttonEl =\n",
              "          document.querySelector('#df-a67f8bd5-c063-45d2-8088-930643a0ed3a button.colab-df-convert');\n",
              "        buttonEl.style.display =\n",
              "          google.colab.kernel.accessAllowed ? 'block' : 'none';\n",
              "\n",
              "        async function convertToInteractive(key) {\n",
              "          const element = document.querySelector('#df-a67f8bd5-c063-45d2-8088-930643a0ed3a');\n",
              "          const dataTable =\n",
              "            await google.colab.kernel.invokeFunction('convertToInteractive',\n",
              "                                                     [key], {});\n",
              "          if (!dataTable) return;\n",
              "\n",
              "          const docLinkHtml = 'Like what you see? Visit the ' +\n",
              "            '<a target=\"_blank\" href=https://colab.research.google.com/notebooks/data_table.ipynb>data table notebook</a>'\n",
              "            + ' to learn more about interactive tables.';\n",
              "          element.innerHTML = '';\n",
              "          dataTable['output_type'] = 'display_data';\n",
              "          await google.colab.output.renderOutput(dataTable, element);\n",
              "          const docLink = document.createElement('div');\n",
              "          docLink.innerHTML = docLinkHtml;\n",
              "          element.appendChild(docLink);\n",
              "        }\n",
              "      </script>\n",
              "    </div>\n",
              "  </div>\n",
              "  "
            ]
          },
          "metadata": {},
          "execution_count": 7
        }
      ]
    },
    {
      "cell_type": "code",
      "source": [
        "df2.tail()"
      ],
      "metadata": {
        "colab": {
          "base_uri": "https://localhost:8080/",
          "height": 617
        },
        "id": "bKP560M6BGiY",
        "outputId": "7e69f36e-ce73-4643-bd0d-35e2c66445db"
      },
      "execution_count": 8,
      "outputs": [
        {
          "output_type": "execute_result",
          "data": {
            "text/plain": [
              "    reserve_no  membership_no  reserve_datetime      cancel_datetime  \\\n",
              "44  1411451556         101741               NaN  2019-03-01 16:32:44   \n",
              "45  1411451556         101741               NaN  2019-03-01 16:32:44   \n",
              "46  1411559297         101868               NaN  2019-02-28 19:57:20   \n",
              "47  1411559297         101868               NaN  2019-02-28 19:57:20   \n",
              "48  1411559297         101868               NaN  2019-02-28 19:57:20   \n",
              "\n",
              "     game_date game_time                               match_info  \\\n",
              "44  2019-03-02  14:00:00  [하나 원큐 K 리그1 2019] 인천 유나이티드 vs 제주 유나이티드   \n",
              "45  2019-03-02  14:00:00  [하나 원큐 K 리그1 2019] 인천 유나이티드 vs 제주 유나이티드   \n",
              "46  2019-03-02  14:00:00  [하나 원큐 K 리그1 2019] 인천 유나이티드 vs 제주 유나이티드   \n",
              "47  2019-03-02  14:00:00  [하나 원큐 K 리그1 2019] 인천 유나이티드 vs 제주 유나이티드   \n",
              "48  2019-03-02  14:00:00  [하나 원큐 K 리그1 2019] 인천 유나이티드 vs 제주 유나이티드   \n",
              "\n",
              "   reserve_state_code  reserve_detail_no   ticket_no product_grade_name  \\\n",
              "44         ALL_CANCEL                  1  1049283590              W 지정석   \n",
              "45         ALL_CANCEL                  2  1049283591              W 지정석   \n",
              "46         ALL_CANCEL                  1  1049356729              W 지정석   \n",
              "47         ALL_CANCEL                  2  1049356730              W 지정석   \n",
              "48         ALL_CANCEL                  3  1049356731              W 지정석   \n",
              "\n",
              "   product_denomination_name seat_Attribute_4 seat_Attribute_5  \\\n",
              "44                    성인(예매)             W4구역               O열   \n",
              "45                    성인(예매)             W4구역               O열   \n",
              "46                       예매권             W2구역               L열   \n",
              "47                       예매권             W2구역               L열   \n",
              "48                       예매권             W2구역               L열   \n",
              "\n",
              "   seat_Attribute_6 cancel_yn detail_cancel_date_time  \n",
              "44               3번         Y     2019-03-01 16:32:44  \n",
              "45               4번         Y     2019-03-01 16:32:44  \n",
              "46              16번         Y     2019-02-28 19:57:20  \n",
              "47              17번         Y     2019-02-28 19:57:20  \n",
              "48              18번         Y     2019-02-28 19:57:20  "
            ],
            "text/html": [
              "\n",
              "  <div id=\"df-ae63482b-0ce8-4e74-a10f-ced7c781df30\">\n",
              "    <div class=\"colab-df-container\">\n",
              "      <div>\n",
              "<style scoped>\n",
              "    .dataframe tbody tr th:only-of-type {\n",
              "        vertical-align: middle;\n",
              "    }\n",
              "\n",
              "    .dataframe tbody tr th {\n",
              "        vertical-align: top;\n",
              "    }\n",
              "\n",
              "    .dataframe thead th {\n",
              "        text-align: right;\n",
              "    }\n",
              "</style>\n",
              "<table border=\"1\" class=\"dataframe\">\n",
              "  <thead>\n",
              "    <tr style=\"text-align: right;\">\n",
              "      <th></th>\n",
              "      <th>reserve_no</th>\n",
              "      <th>membership_no</th>\n",
              "      <th>reserve_datetime</th>\n",
              "      <th>cancel_datetime</th>\n",
              "      <th>game_date</th>\n",
              "      <th>game_time</th>\n",
              "      <th>match_info</th>\n",
              "      <th>reserve_state_code</th>\n",
              "      <th>reserve_detail_no</th>\n",
              "      <th>ticket_no</th>\n",
              "      <th>product_grade_name</th>\n",
              "      <th>product_denomination_name</th>\n",
              "      <th>seat_Attribute_4</th>\n",
              "      <th>seat_Attribute_5</th>\n",
              "      <th>seat_Attribute_6</th>\n",
              "      <th>cancel_yn</th>\n",
              "      <th>detail_cancel_date_time</th>\n",
              "    </tr>\n",
              "  </thead>\n",
              "  <tbody>\n",
              "    <tr>\n",
              "      <th>44</th>\n",
              "      <td>1411451556</td>\n",
              "      <td>101741</td>\n",
              "      <td>NaN</td>\n",
              "      <td>2019-03-01 16:32:44</td>\n",
              "      <td>2019-03-02</td>\n",
              "      <td>14:00:00</td>\n",
              "      <td>[하나 원큐 K 리그1 2019] 인천 유나이티드 vs 제주 유나이티드</td>\n",
              "      <td>ALL_CANCEL</td>\n",
              "      <td>1</td>\n",
              "      <td>1049283590</td>\n",
              "      <td>W 지정석</td>\n",
              "      <td>성인(예매)</td>\n",
              "      <td>W4구역</td>\n",
              "      <td>O열</td>\n",
              "      <td>3번</td>\n",
              "      <td>Y</td>\n",
              "      <td>2019-03-01 16:32:44</td>\n",
              "    </tr>\n",
              "    <tr>\n",
              "      <th>45</th>\n",
              "      <td>1411451556</td>\n",
              "      <td>101741</td>\n",
              "      <td>NaN</td>\n",
              "      <td>2019-03-01 16:32:44</td>\n",
              "      <td>2019-03-02</td>\n",
              "      <td>14:00:00</td>\n",
              "      <td>[하나 원큐 K 리그1 2019] 인천 유나이티드 vs 제주 유나이티드</td>\n",
              "      <td>ALL_CANCEL</td>\n",
              "      <td>2</td>\n",
              "      <td>1049283591</td>\n",
              "      <td>W 지정석</td>\n",
              "      <td>성인(예매)</td>\n",
              "      <td>W4구역</td>\n",
              "      <td>O열</td>\n",
              "      <td>4번</td>\n",
              "      <td>Y</td>\n",
              "      <td>2019-03-01 16:32:44</td>\n",
              "    </tr>\n",
              "    <tr>\n",
              "      <th>46</th>\n",
              "      <td>1411559297</td>\n",
              "      <td>101868</td>\n",
              "      <td>NaN</td>\n",
              "      <td>2019-02-28 19:57:20</td>\n",
              "      <td>2019-03-02</td>\n",
              "      <td>14:00:00</td>\n",
              "      <td>[하나 원큐 K 리그1 2019] 인천 유나이티드 vs 제주 유나이티드</td>\n",
              "      <td>ALL_CANCEL</td>\n",
              "      <td>1</td>\n",
              "      <td>1049356729</td>\n",
              "      <td>W 지정석</td>\n",
              "      <td>예매권</td>\n",
              "      <td>W2구역</td>\n",
              "      <td>L열</td>\n",
              "      <td>16번</td>\n",
              "      <td>Y</td>\n",
              "      <td>2019-02-28 19:57:20</td>\n",
              "    </tr>\n",
              "    <tr>\n",
              "      <th>47</th>\n",
              "      <td>1411559297</td>\n",
              "      <td>101868</td>\n",
              "      <td>NaN</td>\n",
              "      <td>2019-02-28 19:57:20</td>\n",
              "      <td>2019-03-02</td>\n",
              "      <td>14:00:00</td>\n",
              "      <td>[하나 원큐 K 리그1 2019] 인천 유나이티드 vs 제주 유나이티드</td>\n",
              "      <td>ALL_CANCEL</td>\n",
              "      <td>2</td>\n",
              "      <td>1049356730</td>\n",
              "      <td>W 지정석</td>\n",
              "      <td>예매권</td>\n",
              "      <td>W2구역</td>\n",
              "      <td>L열</td>\n",
              "      <td>17번</td>\n",
              "      <td>Y</td>\n",
              "      <td>2019-02-28 19:57:20</td>\n",
              "    </tr>\n",
              "    <tr>\n",
              "      <th>48</th>\n",
              "      <td>1411559297</td>\n",
              "      <td>101868</td>\n",
              "      <td>NaN</td>\n",
              "      <td>2019-02-28 19:57:20</td>\n",
              "      <td>2019-03-02</td>\n",
              "      <td>14:00:00</td>\n",
              "      <td>[하나 원큐 K 리그1 2019] 인천 유나이티드 vs 제주 유나이티드</td>\n",
              "      <td>ALL_CANCEL</td>\n",
              "      <td>3</td>\n",
              "      <td>1049356731</td>\n",
              "      <td>W 지정석</td>\n",
              "      <td>예매권</td>\n",
              "      <td>W2구역</td>\n",
              "      <td>L열</td>\n",
              "      <td>18번</td>\n",
              "      <td>Y</td>\n",
              "      <td>2019-02-28 19:57:20</td>\n",
              "    </tr>\n",
              "  </tbody>\n",
              "</table>\n",
              "</div>\n",
              "      <button class=\"colab-df-convert\" onclick=\"convertToInteractive('df-ae63482b-0ce8-4e74-a10f-ced7c781df30')\"\n",
              "              title=\"Convert this dataframe to an interactive table.\"\n",
              "              style=\"display:none;\">\n",
              "        \n",
              "  <svg xmlns=\"http://www.w3.org/2000/svg\" height=\"24px\"viewBox=\"0 0 24 24\"\n",
              "       width=\"24px\">\n",
              "    <path d=\"M0 0h24v24H0V0z\" fill=\"none\"/>\n",
              "    <path d=\"M18.56 5.44l.94 2.06.94-2.06 2.06-.94-2.06-.94-.94-2.06-.94 2.06-2.06.94zm-11 1L8.5 8.5l.94-2.06 2.06-.94-2.06-.94L8.5 2.5l-.94 2.06-2.06.94zm10 10l.94 2.06.94-2.06 2.06-.94-2.06-.94-.94-2.06-.94 2.06-2.06.94z\"/><path d=\"M17.41 7.96l-1.37-1.37c-.4-.4-.92-.59-1.43-.59-.52 0-1.04.2-1.43.59L10.3 9.45l-7.72 7.72c-.78.78-.78 2.05 0 2.83L4 21.41c.39.39.9.59 1.41.59.51 0 1.02-.2 1.41-.59l7.78-7.78 2.81-2.81c.8-.78.8-2.07 0-2.86zM5.41 20L4 18.59l7.72-7.72 1.47 1.35L5.41 20z\"/>\n",
              "  </svg>\n",
              "      </button>\n",
              "      \n",
              "  <style>\n",
              "    .colab-df-container {\n",
              "      display:flex;\n",
              "      flex-wrap:wrap;\n",
              "      gap: 12px;\n",
              "    }\n",
              "\n",
              "    .colab-df-convert {\n",
              "      background-color: #E8F0FE;\n",
              "      border: none;\n",
              "      border-radius: 50%;\n",
              "      cursor: pointer;\n",
              "      display: none;\n",
              "      fill: #1967D2;\n",
              "      height: 32px;\n",
              "      padding: 0 0 0 0;\n",
              "      width: 32px;\n",
              "    }\n",
              "\n",
              "    .colab-df-convert:hover {\n",
              "      background-color: #E2EBFA;\n",
              "      box-shadow: 0px 1px 2px rgba(60, 64, 67, 0.3), 0px 1px 3px 1px rgba(60, 64, 67, 0.15);\n",
              "      fill: #174EA6;\n",
              "    }\n",
              "\n",
              "    [theme=dark] .colab-df-convert {\n",
              "      background-color: #3B4455;\n",
              "      fill: #D2E3FC;\n",
              "    }\n",
              "\n",
              "    [theme=dark] .colab-df-convert:hover {\n",
              "      background-color: #434B5C;\n",
              "      box-shadow: 0px 1px 3px 1px rgba(0, 0, 0, 0.15);\n",
              "      filter: drop-shadow(0px 1px 2px rgba(0, 0, 0, 0.3));\n",
              "      fill: #FFFFFF;\n",
              "    }\n",
              "  </style>\n",
              "\n",
              "      <script>\n",
              "        const buttonEl =\n",
              "          document.querySelector('#df-ae63482b-0ce8-4e74-a10f-ced7c781df30 button.colab-df-convert');\n",
              "        buttonEl.style.display =\n",
              "          google.colab.kernel.accessAllowed ? 'block' : 'none';\n",
              "\n",
              "        async function convertToInteractive(key) {\n",
              "          const element = document.querySelector('#df-ae63482b-0ce8-4e74-a10f-ced7c781df30');\n",
              "          const dataTable =\n",
              "            await google.colab.kernel.invokeFunction('convertToInteractive',\n",
              "                                                     [key], {});\n",
              "          if (!dataTable) return;\n",
              "\n",
              "          const docLinkHtml = 'Like what you see? Visit the ' +\n",
              "            '<a target=\"_blank\" href=https://colab.research.google.com/notebooks/data_table.ipynb>data table notebook</a>'\n",
              "            + ' to learn more about interactive tables.';\n",
              "          element.innerHTML = '';\n",
              "          dataTable['output_type'] = 'display_data';\n",
              "          await google.colab.output.renderOutput(dataTable, element);\n",
              "          const docLink = document.createElement('div');\n",
              "          docLink.innerHTML = docLinkHtml;\n",
              "          element.appendChild(docLink);\n",
              "        }\n",
              "      </script>\n",
              "    </div>\n",
              "  </div>\n",
              "  "
            ]
          },
          "metadata": {},
          "execution_count": 8
        }
      ]
    },
    {
      "cell_type": "code",
      "source": [
        "df2 # 티켓 예매\n",
        "df2.iloc[0][6] # 복사해서 추출할것\n",
        "# df2[df2['match_info'] == '[하나 원큐 K 리그1 2019] 인천 유나이티드 vs 제주 유나이티드']"
      ],
      "metadata": {
        "id": "eGEJ9_MqJa5J",
        "colab": {
          "base_uri": "https://localhost:8080/",
          "height": 35
        },
        "outputId": "8422e835-abb1-40a9-acfe-86228fdbd7a1"
      },
      "execution_count": 9,
      "outputs": [
        {
          "output_type": "execute_result",
          "data": {
            "text/plain": [
              "'[하나 원큐 K 리그1 2019] 인천 유나이티드 vs 제주 유나이티드'"
            ],
            "application/vnd.google.colaboratory.intrinsic+json": {
              "type": "string"
            }
          },
          "metadata": {},
          "execution_count": 9
        }
      ]
    },
    {
      "cell_type": "code",
      "source": [
        "# from category_encoders import OrdinalEncoder\n",
        "\n",
        "# enc1 = OrdinalEncoder(cols = 'color')\n",
        "# df2 = enc1.fit_transform(df2)"
      ],
      "metadata": {
        "id": "3bVv3RBiCoKm"
      },
      "execution_count": 10,
      "outputs": []
    },
    {
      "cell_type": "code",
      "source": [
        "df3 # 일자별 순위\n",
        "year_rank = df3[df3['game_date'] > '2022.02.01'].reset_index(drop=True)\n",
        "# year_rank"
      ],
      "metadata": {
        "id": "nWMByrszKQLx"
      },
      "execution_count": 11,
      "outputs": []
    },
    {
      "cell_type": "code",
      "source": [
        "df4.info()"
      ],
      "metadata": {
        "colab": {
          "base_uri": "https://localhost:8080/"
        },
        "id": "swW-o_tmDP0_",
        "outputId": "05b4c51d-ce06-49c6-e793-9f9446811819"
      },
      "execution_count": 12,
      "outputs": [
        {
          "output_type": "stream",
          "name": "stdout",
          "text": [
            "<class 'pandas.core.frame.DataFrame'>\n",
            "RangeIndex: 228 entries, 0 to 227\n",
            "Data columns (total 20 columns):\n",
            " #   Column          Non-Null Count  Dtype \n",
            "---  ------          --------------  ----- \n",
            " 0   meet_year       228 non-null    object\n",
            " 1   meet_seq        228 non-null    object\n",
            " 2   meet_name       228 non-null    object\n",
            " 3   game_id         228 non-null    object\n",
            " 4   game_date       228 non-null    object\n",
            " 5   yoil            228 non-null    object\n",
            " 6   game_time       228 non-null    object\n",
            " 7   home_team       228 non-null    object\n",
            " 8   home_team_name  228 non-null    object\n",
            " 9   home_team_goal  222 non-null    object\n",
            " 10  home_team_tk    222 non-null    object\n",
            " 11  away_team       228 non-null    object\n",
            " 12  away_team_name  228 non-null    object\n",
            " 13  away_team_goal  222 non-null    object\n",
            " 14  away_team_tk    222 non-null    object\n",
            " 15  field_id        228 non-null    object\n",
            " 16  field_name      228 non-null    object\n",
            " 17  game_type       228 non-null    object\n",
            " 18  game_type_name  228 non-null    object\n",
            " 19  audience        228 non-null    object\n",
            "dtypes: object(20)\n",
            "memory usage: 35.8+ KB\n"
          ]
        }
      ]
    },
    {
      "cell_type": "code",
      "source": [
        "df4 # 2022년 경기 일정"
      ],
      "metadata": {
        "id": "DEs522VxPCVJ",
        "colab": {
          "base_uri": "https://localhost:8080/",
          "height": 661
        },
        "outputId": "693e472b-6a88-4fdc-ba8d-2c457c3a8ba3"
      },
      "execution_count": 13,
      "outputs": [
        {
          "output_type": "execute_result",
          "data": {
            "text/plain": [
              "    meet_year meet_seq       meet_name game_id   game_date yoil game_time  \\\n",
              "0        2022        1  하나원큐 K리그1 2022       1  2022/02/19    토     14:00   \n",
              "1        2022        1  하나원큐 K리그1 2022       2  2022/02/19    토     16:30   \n",
              "2        2022        1  하나원큐 K리그1 2022       3  2022/02/19    토     16:30   \n",
              "3        2022        1  하나원큐 K리그1 2022       4  2022/02/20    일     14:00   \n",
              "4        2022        1  하나원큐 K리그1 2022       5  2022/02/20    일     14:00   \n",
              "..        ...      ...             ...     ...         ...  ...       ...   \n",
              "223      2022        1  하나원큐 K리그1 2022     224  2022/10/22    토     15:00   \n",
              "224      2022        1  하나원큐 K리그1 2022     225  2022/10/22    토     15:00   \n",
              "225      2022        1  하나원큐 K리그1 2022     226  2022/10/23    일     15:00   \n",
              "226      2022        1  하나원큐 K리그1 2022     227  2022/10/23    일     15:00   \n",
              "227      2022        1  하나원큐 K리그1 2022     228  2022/10/23    일     15:00   \n",
              "\n",
              "    home_team home_team_name home_team_goal home_team_tk away_team  \\\n",
              "0         K05             전북              1            0       K29   \n",
              "1         K17             대구              0            0       K09   \n",
              "2         K18             인천              1            0       K02   \n",
              "3         K04             제주              0            0       K03   \n",
              "4         K21             강원              2            0       K08   \n",
              "..        ...            ...            ...          ...       ...   \n",
              "223       K35             김천            NaN          NaN       K02   \n",
              "224       K08             성남            NaN          NaN       K17   \n",
              "225       K01             울산            NaN          NaN       K04   \n",
              "226       K05             전북            NaN          NaN       K18   \n",
              "227       K03             포항            NaN          NaN       K21   \n",
              "\n",
              "    away_team_name away_team_goal away_team_tk field_id field_name game_type  \\\n",
              "0             수원FC              0            0       71        전주W        21   \n",
              "1               서울              2            0      114        대구전        21   \n",
              "2               수원              0            0       95         인천        21   \n",
              "3               포항              3            0       85        제주W        21   \n",
              "4               성남              0            0       25         강릉        21   \n",
              "..             ...            ...          ...      ...        ...       ...   \n",
              "223             수원            NaN          NaN      118         김천        24   \n",
              "224             대구            NaN          NaN       84         탄천        24   \n",
              "225             제주            NaN          NaN       68         문수        23   \n",
              "226             인천            NaN          NaN       71        전주W        23   \n",
              "227             강원            NaN          NaN       14         포항        23   \n",
              "\n",
              "    game_type_name audience  \n",
              "0            스플릿일반     7715  \n",
              "1            스플릿일반     8082  \n",
              "2            스플릿일반     5382  \n",
              "3            스플릿일반     2514  \n",
              "4            스플릿일반     1933  \n",
              "..             ...      ...  \n",
              "223           파이널B        0  \n",
              "224           파이널B        0  \n",
              "225           파이널A        0  \n",
              "226           파이널A        0  \n",
              "227           파이널A        0  \n",
              "\n",
              "[228 rows x 20 columns]"
            ],
            "text/html": [
              "\n",
              "  <div id=\"df-220a9ac1-ed42-4382-868f-e72b07c11457\">\n",
              "    <div class=\"colab-df-container\">\n",
              "      <div>\n",
              "<style scoped>\n",
              "    .dataframe tbody tr th:only-of-type {\n",
              "        vertical-align: middle;\n",
              "    }\n",
              "\n",
              "    .dataframe tbody tr th {\n",
              "        vertical-align: top;\n",
              "    }\n",
              "\n",
              "    .dataframe thead th {\n",
              "        text-align: right;\n",
              "    }\n",
              "</style>\n",
              "<table border=\"1\" class=\"dataframe\">\n",
              "  <thead>\n",
              "    <tr style=\"text-align: right;\">\n",
              "      <th></th>\n",
              "      <th>meet_year</th>\n",
              "      <th>meet_seq</th>\n",
              "      <th>meet_name</th>\n",
              "      <th>game_id</th>\n",
              "      <th>game_date</th>\n",
              "      <th>yoil</th>\n",
              "      <th>game_time</th>\n",
              "      <th>home_team</th>\n",
              "      <th>home_team_name</th>\n",
              "      <th>home_team_goal</th>\n",
              "      <th>home_team_tk</th>\n",
              "      <th>away_team</th>\n",
              "      <th>away_team_name</th>\n",
              "      <th>away_team_goal</th>\n",
              "      <th>away_team_tk</th>\n",
              "      <th>field_id</th>\n",
              "      <th>field_name</th>\n",
              "      <th>game_type</th>\n",
              "      <th>game_type_name</th>\n",
              "      <th>audience</th>\n",
              "    </tr>\n",
              "  </thead>\n",
              "  <tbody>\n",
              "    <tr>\n",
              "      <th>0</th>\n",
              "      <td>2022</td>\n",
              "      <td>1</td>\n",
              "      <td>하나원큐 K리그1 2022</td>\n",
              "      <td>1</td>\n",
              "      <td>2022/02/19</td>\n",
              "      <td>토</td>\n",
              "      <td>14:00</td>\n",
              "      <td>K05</td>\n",
              "      <td>전북</td>\n",
              "      <td>1</td>\n",
              "      <td>0</td>\n",
              "      <td>K29</td>\n",
              "      <td>수원FC</td>\n",
              "      <td>0</td>\n",
              "      <td>0</td>\n",
              "      <td>71</td>\n",
              "      <td>전주W</td>\n",
              "      <td>21</td>\n",
              "      <td>스플릿일반</td>\n",
              "      <td>7715</td>\n",
              "    </tr>\n",
              "    <tr>\n",
              "      <th>1</th>\n",
              "      <td>2022</td>\n",
              "      <td>1</td>\n",
              "      <td>하나원큐 K리그1 2022</td>\n",
              "      <td>2</td>\n",
              "      <td>2022/02/19</td>\n",
              "      <td>토</td>\n",
              "      <td>16:30</td>\n",
              "      <td>K17</td>\n",
              "      <td>대구</td>\n",
              "      <td>0</td>\n",
              "      <td>0</td>\n",
              "      <td>K09</td>\n",
              "      <td>서울</td>\n",
              "      <td>2</td>\n",
              "      <td>0</td>\n",
              "      <td>114</td>\n",
              "      <td>대구전</td>\n",
              "      <td>21</td>\n",
              "      <td>스플릿일반</td>\n",
              "      <td>8082</td>\n",
              "    </tr>\n",
              "    <tr>\n",
              "      <th>2</th>\n",
              "      <td>2022</td>\n",
              "      <td>1</td>\n",
              "      <td>하나원큐 K리그1 2022</td>\n",
              "      <td>3</td>\n",
              "      <td>2022/02/19</td>\n",
              "      <td>토</td>\n",
              "      <td>16:30</td>\n",
              "      <td>K18</td>\n",
              "      <td>인천</td>\n",
              "      <td>1</td>\n",
              "      <td>0</td>\n",
              "      <td>K02</td>\n",
              "      <td>수원</td>\n",
              "      <td>0</td>\n",
              "      <td>0</td>\n",
              "      <td>95</td>\n",
              "      <td>인천</td>\n",
              "      <td>21</td>\n",
              "      <td>스플릿일반</td>\n",
              "      <td>5382</td>\n",
              "    </tr>\n",
              "    <tr>\n",
              "      <th>3</th>\n",
              "      <td>2022</td>\n",
              "      <td>1</td>\n",
              "      <td>하나원큐 K리그1 2022</td>\n",
              "      <td>4</td>\n",
              "      <td>2022/02/20</td>\n",
              "      <td>일</td>\n",
              "      <td>14:00</td>\n",
              "      <td>K04</td>\n",
              "      <td>제주</td>\n",
              "      <td>0</td>\n",
              "      <td>0</td>\n",
              "      <td>K03</td>\n",
              "      <td>포항</td>\n",
              "      <td>3</td>\n",
              "      <td>0</td>\n",
              "      <td>85</td>\n",
              "      <td>제주W</td>\n",
              "      <td>21</td>\n",
              "      <td>스플릿일반</td>\n",
              "      <td>2514</td>\n",
              "    </tr>\n",
              "    <tr>\n",
              "      <th>4</th>\n",
              "      <td>2022</td>\n",
              "      <td>1</td>\n",
              "      <td>하나원큐 K리그1 2022</td>\n",
              "      <td>5</td>\n",
              "      <td>2022/02/20</td>\n",
              "      <td>일</td>\n",
              "      <td>14:00</td>\n",
              "      <td>K21</td>\n",
              "      <td>강원</td>\n",
              "      <td>2</td>\n",
              "      <td>0</td>\n",
              "      <td>K08</td>\n",
              "      <td>성남</td>\n",
              "      <td>0</td>\n",
              "      <td>0</td>\n",
              "      <td>25</td>\n",
              "      <td>강릉</td>\n",
              "      <td>21</td>\n",
              "      <td>스플릿일반</td>\n",
              "      <td>1933</td>\n",
              "    </tr>\n",
              "    <tr>\n",
              "      <th>...</th>\n",
              "      <td>...</td>\n",
              "      <td>...</td>\n",
              "      <td>...</td>\n",
              "      <td>...</td>\n",
              "      <td>...</td>\n",
              "      <td>...</td>\n",
              "      <td>...</td>\n",
              "      <td>...</td>\n",
              "      <td>...</td>\n",
              "      <td>...</td>\n",
              "      <td>...</td>\n",
              "      <td>...</td>\n",
              "      <td>...</td>\n",
              "      <td>...</td>\n",
              "      <td>...</td>\n",
              "      <td>...</td>\n",
              "      <td>...</td>\n",
              "      <td>...</td>\n",
              "      <td>...</td>\n",
              "      <td>...</td>\n",
              "    </tr>\n",
              "    <tr>\n",
              "      <th>223</th>\n",
              "      <td>2022</td>\n",
              "      <td>1</td>\n",
              "      <td>하나원큐 K리그1 2022</td>\n",
              "      <td>224</td>\n",
              "      <td>2022/10/22</td>\n",
              "      <td>토</td>\n",
              "      <td>15:00</td>\n",
              "      <td>K35</td>\n",
              "      <td>김천</td>\n",
              "      <td>NaN</td>\n",
              "      <td>NaN</td>\n",
              "      <td>K02</td>\n",
              "      <td>수원</td>\n",
              "      <td>NaN</td>\n",
              "      <td>NaN</td>\n",
              "      <td>118</td>\n",
              "      <td>김천</td>\n",
              "      <td>24</td>\n",
              "      <td>파이널B</td>\n",
              "      <td>0</td>\n",
              "    </tr>\n",
              "    <tr>\n",
              "      <th>224</th>\n",
              "      <td>2022</td>\n",
              "      <td>1</td>\n",
              "      <td>하나원큐 K리그1 2022</td>\n",
              "      <td>225</td>\n",
              "      <td>2022/10/22</td>\n",
              "      <td>토</td>\n",
              "      <td>15:00</td>\n",
              "      <td>K08</td>\n",
              "      <td>성남</td>\n",
              "      <td>NaN</td>\n",
              "      <td>NaN</td>\n",
              "      <td>K17</td>\n",
              "      <td>대구</td>\n",
              "      <td>NaN</td>\n",
              "      <td>NaN</td>\n",
              "      <td>84</td>\n",
              "      <td>탄천</td>\n",
              "      <td>24</td>\n",
              "      <td>파이널B</td>\n",
              "      <td>0</td>\n",
              "    </tr>\n",
              "    <tr>\n",
              "      <th>225</th>\n",
              "      <td>2022</td>\n",
              "      <td>1</td>\n",
              "      <td>하나원큐 K리그1 2022</td>\n",
              "      <td>226</td>\n",
              "      <td>2022/10/23</td>\n",
              "      <td>일</td>\n",
              "      <td>15:00</td>\n",
              "      <td>K01</td>\n",
              "      <td>울산</td>\n",
              "      <td>NaN</td>\n",
              "      <td>NaN</td>\n",
              "      <td>K04</td>\n",
              "      <td>제주</td>\n",
              "      <td>NaN</td>\n",
              "      <td>NaN</td>\n",
              "      <td>68</td>\n",
              "      <td>문수</td>\n",
              "      <td>23</td>\n",
              "      <td>파이널A</td>\n",
              "      <td>0</td>\n",
              "    </tr>\n",
              "    <tr>\n",
              "      <th>226</th>\n",
              "      <td>2022</td>\n",
              "      <td>1</td>\n",
              "      <td>하나원큐 K리그1 2022</td>\n",
              "      <td>227</td>\n",
              "      <td>2022/10/23</td>\n",
              "      <td>일</td>\n",
              "      <td>15:00</td>\n",
              "      <td>K05</td>\n",
              "      <td>전북</td>\n",
              "      <td>NaN</td>\n",
              "      <td>NaN</td>\n",
              "      <td>K18</td>\n",
              "      <td>인천</td>\n",
              "      <td>NaN</td>\n",
              "      <td>NaN</td>\n",
              "      <td>71</td>\n",
              "      <td>전주W</td>\n",
              "      <td>23</td>\n",
              "      <td>파이널A</td>\n",
              "      <td>0</td>\n",
              "    </tr>\n",
              "    <tr>\n",
              "      <th>227</th>\n",
              "      <td>2022</td>\n",
              "      <td>1</td>\n",
              "      <td>하나원큐 K리그1 2022</td>\n",
              "      <td>228</td>\n",
              "      <td>2022/10/23</td>\n",
              "      <td>일</td>\n",
              "      <td>15:00</td>\n",
              "      <td>K03</td>\n",
              "      <td>포항</td>\n",
              "      <td>NaN</td>\n",
              "      <td>NaN</td>\n",
              "      <td>K21</td>\n",
              "      <td>강원</td>\n",
              "      <td>NaN</td>\n",
              "      <td>NaN</td>\n",
              "      <td>14</td>\n",
              "      <td>포항</td>\n",
              "      <td>23</td>\n",
              "      <td>파이널A</td>\n",
              "      <td>0</td>\n",
              "    </tr>\n",
              "  </tbody>\n",
              "</table>\n",
              "<p>228 rows × 20 columns</p>\n",
              "</div>\n",
              "      <button class=\"colab-df-convert\" onclick=\"convertToInteractive('df-220a9ac1-ed42-4382-868f-e72b07c11457')\"\n",
              "              title=\"Convert this dataframe to an interactive table.\"\n",
              "              style=\"display:none;\">\n",
              "        \n",
              "  <svg xmlns=\"http://www.w3.org/2000/svg\" height=\"24px\"viewBox=\"0 0 24 24\"\n",
              "       width=\"24px\">\n",
              "    <path d=\"M0 0h24v24H0V0z\" fill=\"none\"/>\n",
              "    <path d=\"M18.56 5.44l.94 2.06.94-2.06 2.06-.94-2.06-.94-.94-2.06-.94 2.06-2.06.94zm-11 1L8.5 8.5l.94-2.06 2.06-.94-2.06-.94L8.5 2.5l-.94 2.06-2.06.94zm10 10l.94 2.06.94-2.06 2.06-.94-2.06-.94-.94-2.06-.94 2.06-2.06.94z\"/><path d=\"M17.41 7.96l-1.37-1.37c-.4-.4-.92-.59-1.43-.59-.52 0-1.04.2-1.43.59L10.3 9.45l-7.72 7.72c-.78.78-.78 2.05 0 2.83L4 21.41c.39.39.9.59 1.41.59.51 0 1.02-.2 1.41-.59l7.78-7.78 2.81-2.81c.8-.78.8-2.07 0-2.86zM5.41 20L4 18.59l7.72-7.72 1.47 1.35L5.41 20z\"/>\n",
              "  </svg>\n",
              "      </button>\n",
              "      \n",
              "  <style>\n",
              "    .colab-df-container {\n",
              "      display:flex;\n",
              "      flex-wrap:wrap;\n",
              "      gap: 12px;\n",
              "    }\n",
              "\n",
              "    .colab-df-convert {\n",
              "      background-color: #E8F0FE;\n",
              "      border: none;\n",
              "      border-radius: 50%;\n",
              "      cursor: pointer;\n",
              "      display: none;\n",
              "      fill: #1967D2;\n",
              "      height: 32px;\n",
              "      padding: 0 0 0 0;\n",
              "      width: 32px;\n",
              "    }\n",
              "\n",
              "    .colab-df-convert:hover {\n",
              "      background-color: #E2EBFA;\n",
              "      box-shadow: 0px 1px 2px rgba(60, 64, 67, 0.3), 0px 1px 3px 1px rgba(60, 64, 67, 0.15);\n",
              "      fill: #174EA6;\n",
              "    }\n",
              "\n",
              "    [theme=dark] .colab-df-convert {\n",
              "      background-color: #3B4455;\n",
              "      fill: #D2E3FC;\n",
              "    }\n",
              "\n",
              "    [theme=dark] .colab-df-convert:hover {\n",
              "      background-color: #434B5C;\n",
              "      box-shadow: 0px 1px 3px 1px rgba(0, 0, 0, 0.15);\n",
              "      filter: drop-shadow(0px 1px 2px rgba(0, 0, 0, 0.3));\n",
              "      fill: #FFFFFF;\n",
              "    }\n",
              "  </style>\n",
              "\n",
              "      <script>\n",
              "        const buttonEl =\n",
              "          document.querySelector('#df-220a9ac1-ed42-4382-868f-e72b07c11457 button.colab-df-convert');\n",
              "        buttonEl.style.display =\n",
              "          google.colab.kernel.accessAllowed ? 'block' : 'none';\n",
              "\n",
              "        async function convertToInteractive(key) {\n",
              "          const element = document.querySelector('#df-220a9ac1-ed42-4382-868f-e72b07c11457');\n",
              "          const dataTable =\n",
              "            await google.colab.kernel.invokeFunction('convertToInteractive',\n",
              "                                                     [key], {});\n",
              "          if (!dataTable) return;\n",
              "\n",
              "          const docLinkHtml = 'Like what you see? Visit the ' +\n",
              "            '<a target=\"_blank\" href=https://colab.research.google.com/notebooks/data_table.ipynb>data table notebook</a>'\n",
              "            + ' to learn more about interactive tables.';\n",
              "          element.innerHTML = '';\n",
              "          dataTable['output_type'] = 'display_data';\n",
              "          await google.colab.output.renderOutput(dataTable, element);\n",
              "          const docLink = document.createElement('div');\n",
              "          docLink.innerHTML = docLinkHtml;\n",
              "          element.appendChild(docLink);\n",
              "        }\n",
              "      </script>\n",
              "    </div>\n",
              "  </div>\n",
              "  "
            ]
          },
          "metadata": {},
          "execution_count": 13
        }
      ]
    },
    {
      "cell_type": "code",
      "source": [
        "# k리그는 12팀으로 진행됨, k리그 팀목록\n",
        "abc = df4[['home_team','home_team_name','away_team','away_team_name']].sort_values(by='home_team').reset_index(drop=True)\n",
        "home_num = {abc.loc[i][0]:abc.loc[i][1] for i in range(len(abc))}\n",
        "away_num = {abc.loc[i][2]:abc.loc[i][3] for i in range(len(abc))}\n",
        "all_num = dict(home_num,**away_num)"
      ],
      "metadata": {
        "id": "QUyDpWoTPpE9"
      },
      "execution_count": 14,
      "outputs": []
    },
    {
      "cell_type": "markdown",
      "source": [
        "**tk(승부차기) 컬럼 삭제, 연도와 각 팀, 경기장의 id번호 삭제**"
      ],
      "metadata": {
        "id": "q4xBW-CgbX2p"
      }
    },
    {
      "cell_type": "code",
      "source": [
        "df4['home_team_tk'].unique()"
      ],
      "metadata": {
        "colab": {
          "base_uri": "https://localhost:8080/"
        },
        "id": "RP45tDlXbHhs",
        "outputId": "ca1ca65b-42a8-4be7-ffe6-b3f96a89c381"
      },
      "execution_count": 15,
      "outputs": [
        {
          "output_type": "execute_result",
          "data": {
            "text/plain": [
              "array(['0', nan], dtype=object)"
            ]
          },
          "metadata": {},
          "execution_count": 15
        }
      ]
    },
    {
      "cell_type": "code",
      "source": [
        "df4['away_team_tk'].unique()"
      ],
      "metadata": {
        "colab": {
          "base_uri": "https://localhost:8080/"
        },
        "id": "XfvWooW6bP6u",
        "outputId": "5449c5a2-583c-4eaa-c730-1d6e2310b356"
      },
      "execution_count": 16,
      "outputs": [
        {
          "output_type": "execute_result",
          "data": {
            "text/plain": [
              "array(['0', nan], dtype=object)"
            ]
          },
          "metadata": {},
          "execution_count": 16
        }
      ]
    },
    {
      "cell_type": "code",
      "source": [
        "df4.drop(columns = ['home_team_tk','away_team_tk','meet_year','meet_seq','meet_name','home_team','away_team','field_id'],inplace=True,)"
      ],
      "metadata": {
        "id": "tnhzWdlZbjhw"
      },
      "execution_count": 17,
      "outputs": []
    },
    {
      "cell_type": "code",
      "source": [
        "# 숫자데이터 숫자로 변경\n",
        "df4[['game_id','audience']] = df4[['game_id','audience']].astype(int)\n",
        "\n",
        "# 날짜데이터 datetime변경\n",
        "df4['game_date'] = pd.to_datetime(df4['game_date'])\n",
        "\n",
        "df4['yoil'] = df4['yoil'].replace({'월':0,'화':1,'수':2,'목':3,'금':4,'토':5,'일':6})"
      ],
      "metadata": {
        "id": "6N0uTcKbifMY"
      },
      "execution_count": 18,
      "outputs": []
    },
    {
      "cell_type": "markdown",
      "source": [
        "## 데이터 분석"
      ],
      "metadata": {
        "id": "z7JCAyGynXOM"
      }
    },
    {
      "cell_type": "markdown",
      "source": [],
      "metadata": {
        "id": "xxV4F0BdiYb7"
      }
    },
    {
      "cell_type": "markdown",
      "source": [
        "### 랭킹데이터 + 직전 경기 승패 (df3+df4)"
      ],
      "metadata": {
        "id": "FpiAoddknb_b"
      }
    },
    {
      "cell_type": "code",
      "source": [
        "# 경기결과 + 순위\n",
        "merge_df = pd.merge(year_rank, df4, how='inner',on='game_date')\n",
        "\n",
        "# 인천 경기장 경기\n",
        "home_game = merge_df[merge_df['field_name']=='인천']  \n",
        "\n",
        "# 인천 경기\n",
        "home_team = merge_df[(merge_df['home_team_name']=='인천') | (merge_df['away_team_name']=='인천')].reset_index()"
      ],
      "metadata": {
        "id": "lK6TQv3-D4KO"
      },
      "execution_count": 19,
      "outputs": []
    },
    {
      "cell_type": "code",
      "source": [
        "# result 컬럼 직전 경기 승, 무, 패 기록\n",
        "home_team['result'] = 0\n",
        "for i in range(len(home_team)):\n",
        "    if (home_team['home_team_name'][i]=='인천') and (home_team['home_team_goal'][i]> home_team['away_team_goal'][i]):\n",
        "        home_team['result'][i] = '승리'\n",
        "    elif (home_team['away_team_name'][i]=='인천') and (home_team['home_team_goal'][i]< home_team['away_team_goal'][i]):\n",
        "        home_team['result'][i] = '승리'\n",
        "    elif (home_team['away_team_name'][i]=='인천') and (home_team['home_team_goal'][i] == home_team['away_team_goal'][i]):\n",
        "        home_team['result'][i] = '무승부'\n",
        "    else:\n",
        "        home_team['result'][i] = '패배'\n",
        "home_team['result'] = home_team.result.shift()"
      ],
      "metadata": {
        "id": "bQj-EhGfKGgj",
        "colab": {
          "base_uri": "https://localhost:8080/"
        },
        "outputId": "131fd376-0385-4b56-b336-821440c4ee6c"
      },
      "execution_count": 20,
      "outputs": [
        {
          "output_type": "stream",
          "name": "stderr",
          "text": [
            "<ipython-input-20-24c23529ac47>:5: SettingWithCopyWarning: \n",
            "A value is trying to be set on a copy of a slice from a DataFrame\n",
            "\n",
            "See the caveats in the documentation: https://pandas.pydata.org/pandas-docs/stable/user_guide/indexing.html#returning-a-view-versus-a-copy\n",
            "  home_team['result'][i] = '승리'\n",
            "/usr/local/lib/python3.8/dist-packages/pandas/core/indexing.py:1732: SettingWithCopyWarning: \n",
            "A value is trying to be set on a copy of a slice from a DataFrame\n",
            "\n",
            "See the caveats in the documentation: https://pandas.pydata.org/pandas-docs/stable/user_guide/indexing.html#returning-a-view-versus-a-copy\n",
            "  self._setitem_single_block(indexer, value, name)\n"
          ]
        }
      ]
    },
    {
      "cell_type": "code",
      "source": [
        "# 인천 경기장만 추출\n",
        "diff = home_team[home_team['field_name'] == '인천']"
      ],
      "metadata": {
        "id": "2hGreNCBRpNT"
      },
      "execution_count": 21,
      "outputs": []
    },
    {
      "cell_type": "code",
      "source": [
        "# 인천 경기장 승,무,패에 따른 그래프\n",
        "result = list(diff['result'].unique())\n",
        "del result[0]\n",
        "\n",
        "plt.figure(figsize=(12,8))\n",
        "for i in result:\n",
        "    plt.plot(diff[diff['result']==i].groupby('yoil')['audience'].mean())\n",
        "plt.plot(diff.groupby('yoil')['audience'].mean())\n",
        "plt.ylabel('평균 인원', fontsize=18, labelpad=40, rotation='horizontal')\n",
        "plt.xlabel('경기 요일', fontsize=18, labelpad=20)\n",
        "plt.xticks(range(7),['월','화','수','목','금','토','일'])\n",
        "plt.legend(['승리','패배','무승부','평균'])\n",
        "plt.show();\n"
      ],
      "metadata": {
        "colab": {
          "base_uri": "https://localhost:8080/",
          "height": 1000
        },
        "id": "j06F0FzaT3nw",
        "outputId": "06542c24-831a-41c3-d0a7-4a1ce83804a3"
      },
      "execution_count": 22,
      "outputs": [
        {
          "output_type": "stream",
          "name": "stderr",
          "text": [
            "/usr/local/lib/python3.8/dist-packages/matplotlib/backends/backend_agg.py:214: RuntimeWarning: Glyph 50900 missing from current font.\n",
            "  font.set_text(s, 0.0, flags=flags)\n",
            "/usr/local/lib/python3.8/dist-packages/matplotlib/backends/backend_agg.py:214: RuntimeWarning: Glyph 54868 missing from current font.\n",
            "  font.set_text(s, 0.0, flags=flags)\n",
            "/usr/local/lib/python3.8/dist-packages/matplotlib/backends/backend_agg.py:214: RuntimeWarning: Glyph 49688 missing from current font.\n",
            "  font.set_text(s, 0.0, flags=flags)\n",
            "/usr/local/lib/python3.8/dist-packages/matplotlib/backends/backend_agg.py:214: RuntimeWarning: Glyph 47785 missing from current font.\n",
            "  font.set_text(s, 0.0, flags=flags)\n",
            "/usr/local/lib/python3.8/dist-packages/matplotlib/backends/backend_agg.py:214: RuntimeWarning: Glyph 44552 missing from current font.\n",
            "  font.set_text(s, 0.0, flags=flags)\n",
            "/usr/local/lib/python3.8/dist-packages/matplotlib/backends/backend_agg.py:214: RuntimeWarning: Glyph 53664 missing from current font.\n",
            "  font.set_text(s, 0.0, flags=flags)\n",
            "/usr/local/lib/python3.8/dist-packages/matplotlib/backends/backend_agg.py:214: RuntimeWarning: Glyph 51068 missing from current font.\n",
            "  font.set_text(s, 0.0, flags=flags)\n",
            "/usr/local/lib/python3.8/dist-packages/matplotlib/backends/backend_agg.py:214: RuntimeWarning: Glyph 44221 missing from current font.\n",
            "  font.set_text(s, 0.0, flags=flags)\n",
            "/usr/local/lib/python3.8/dist-packages/matplotlib/backends/backend_agg.py:214: RuntimeWarning: Glyph 44592 missing from current font.\n",
            "  font.set_text(s, 0.0, flags=flags)\n",
            "/usr/local/lib/python3.8/dist-packages/matplotlib/backends/backend_agg.py:214: RuntimeWarning: Glyph 50836 missing from current font.\n",
            "  font.set_text(s, 0.0, flags=flags)\n",
            "/usr/local/lib/python3.8/dist-packages/matplotlib/backends/backend_agg.py:214: RuntimeWarning: Glyph 54217 missing from current font.\n",
            "  font.set_text(s, 0.0, flags=flags)\n",
            "/usr/local/lib/python3.8/dist-packages/matplotlib/backends/backend_agg.py:214: RuntimeWarning: Glyph 44512 missing from current font.\n",
            "  font.set_text(s, 0.0, flags=flags)\n",
            "/usr/local/lib/python3.8/dist-packages/matplotlib/backends/backend_agg.py:214: RuntimeWarning: Glyph 51064 missing from current font.\n",
            "  font.set_text(s, 0.0, flags=flags)\n",
            "/usr/local/lib/python3.8/dist-packages/matplotlib/backends/backend_agg.py:214: RuntimeWarning: Glyph 50896 missing from current font.\n",
            "  font.set_text(s, 0.0, flags=flags)\n",
            "/usr/local/lib/python3.8/dist-packages/matplotlib/backends/backend_agg.py:214: RuntimeWarning: Glyph 49849 missing from current font.\n",
            "  font.set_text(s, 0.0, flags=flags)\n",
            "/usr/local/lib/python3.8/dist-packages/matplotlib/backends/backend_agg.py:214: RuntimeWarning: Glyph 47532 missing from current font.\n",
            "  font.set_text(s, 0.0, flags=flags)\n",
            "/usr/local/lib/python3.8/dist-packages/matplotlib/backends/backend_agg.py:214: RuntimeWarning: Glyph 54056 missing from current font.\n",
            "  font.set_text(s, 0.0, flags=flags)\n",
            "/usr/local/lib/python3.8/dist-packages/matplotlib/backends/backend_agg.py:214: RuntimeWarning: Glyph 48176 missing from current font.\n",
            "  font.set_text(s, 0.0, flags=flags)\n",
            "/usr/local/lib/python3.8/dist-packages/matplotlib/backends/backend_agg.py:214: RuntimeWarning: Glyph 47924 missing from current font.\n",
            "  font.set_text(s, 0.0, flags=flags)\n",
            "/usr/local/lib/python3.8/dist-packages/matplotlib/backends/backend_agg.py:214: RuntimeWarning: Glyph 48512 missing from current font.\n",
            "  font.set_text(s, 0.0, flags=flags)\n",
            "/usr/local/lib/python3.8/dist-packages/matplotlib/backends/backend_agg.py:183: RuntimeWarning: Glyph 50900 missing from current font.\n",
            "  font.set_text(s, 0, flags=flags)\n",
            "/usr/local/lib/python3.8/dist-packages/matplotlib/backends/backend_agg.py:183: RuntimeWarning: Glyph 54868 missing from current font.\n",
            "  font.set_text(s, 0, flags=flags)\n",
            "/usr/local/lib/python3.8/dist-packages/matplotlib/backends/backend_agg.py:183: RuntimeWarning: Glyph 49688 missing from current font.\n",
            "  font.set_text(s, 0, flags=flags)\n",
            "/usr/local/lib/python3.8/dist-packages/matplotlib/backends/backend_agg.py:183: RuntimeWarning: Glyph 47785 missing from current font.\n",
            "  font.set_text(s, 0, flags=flags)\n",
            "/usr/local/lib/python3.8/dist-packages/matplotlib/backends/backend_agg.py:183: RuntimeWarning: Glyph 44552 missing from current font.\n",
            "  font.set_text(s, 0, flags=flags)\n",
            "/usr/local/lib/python3.8/dist-packages/matplotlib/backends/backend_agg.py:183: RuntimeWarning: Glyph 53664 missing from current font.\n",
            "  font.set_text(s, 0, flags=flags)\n",
            "/usr/local/lib/python3.8/dist-packages/matplotlib/backends/backend_agg.py:183: RuntimeWarning: Glyph 51068 missing from current font.\n",
            "  font.set_text(s, 0, flags=flags)\n",
            "/usr/local/lib/python3.8/dist-packages/matplotlib/backends/backend_agg.py:183: RuntimeWarning: Glyph 44221 missing from current font.\n",
            "  font.set_text(s, 0, flags=flags)\n",
            "/usr/local/lib/python3.8/dist-packages/matplotlib/backends/backend_agg.py:183: RuntimeWarning: Glyph 44592 missing from current font.\n",
            "  font.set_text(s, 0, flags=flags)\n",
            "/usr/local/lib/python3.8/dist-packages/matplotlib/backends/backend_agg.py:183: RuntimeWarning: Glyph 50836 missing from current font.\n",
            "  font.set_text(s, 0, flags=flags)\n",
            "/usr/local/lib/python3.8/dist-packages/matplotlib/backends/backend_agg.py:183: RuntimeWarning: Glyph 54217 missing from current font.\n",
            "  font.set_text(s, 0, flags=flags)\n",
            "/usr/local/lib/python3.8/dist-packages/matplotlib/backends/backend_agg.py:183: RuntimeWarning: Glyph 44512 missing from current font.\n",
            "  font.set_text(s, 0, flags=flags)\n",
            "/usr/local/lib/python3.8/dist-packages/matplotlib/backends/backend_agg.py:183: RuntimeWarning: Glyph 51064 missing from current font.\n",
            "  font.set_text(s, 0, flags=flags)\n",
            "/usr/local/lib/python3.8/dist-packages/matplotlib/backends/backend_agg.py:183: RuntimeWarning: Glyph 50896 missing from current font.\n",
            "  font.set_text(s, 0, flags=flags)\n",
            "/usr/local/lib/python3.8/dist-packages/matplotlib/backends/backend_agg.py:183: RuntimeWarning: Glyph 49849 missing from current font.\n",
            "  font.set_text(s, 0, flags=flags)\n",
            "/usr/local/lib/python3.8/dist-packages/matplotlib/backends/backend_agg.py:183: RuntimeWarning: Glyph 47532 missing from current font.\n",
            "  font.set_text(s, 0, flags=flags)\n",
            "/usr/local/lib/python3.8/dist-packages/matplotlib/backends/backend_agg.py:183: RuntimeWarning: Glyph 54056 missing from current font.\n",
            "  font.set_text(s, 0, flags=flags)\n",
            "/usr/local/lib/python3.8/dist-packages/matplotlib/backends/backend_agg.py:183: RuntimeWarning: Glyph 48176 missing from current font.\n",
            "  font.set_text(s, 0, flags=flags)\n",
            "/usr/local/lib/python3.8/dist-packages/matplotlib/backends/backend_agg.py:183: RuntimeWarning: Glyph 47924 missing from current font.\n",
            "  font.set_text(s, 0, flags=flags)\n",
            "/usr/local/lib/python3.8/dist-packages/matplotlib/backends/backend_agg.py:183: RuntimeWarning: Glyph 48512 missing from current font.\n",
            "  font.set_text(s, 0, flags=flags)\n"
          ]
        },
        {
          "output_type": "display_data",
          "data": {
            "text/plain": [
              "<Figure size 864x576 with 1 Axes>"
            ],
            "image/png": "[encoded data removed]"
          },
          "metadata": {
            "needs_background": "light"
          }
        }
      ]
    },
    {
      "cell_type": "markdown",
      "source": [
        "### 경기 결과 및 관객 수 (df4)"
      ],
      "metadata": {
        "id": "rNY_g8RYnbwv"
      }
    },
    {
      "cell_type": "markdown",
      "source": [
        "**요일별 시간별 경기 수**"
      ],
      "metadata": {
        "id": "zTD_pBNnnCul"
      }
    },
    {
      "cell_type": "code",
      "source": [
        "# 한글 그래프 폰트(런타임재시작)\n",
        "!sudo apt-get install -y fonts-nanum\n",
        "!sudo fc-cache -fv\n",
        "!rm ~/.cache/matplotlib -rf"
      ],
      "metadata": {
        "id": "9_hslskhsgMq",
        "colab": {
          "base_uri": "https://localhost:8080/"
        },
        "outputId": "dc92b7f6-42c9-4057-cbd8-d8759bf9a71c"
      },
      "execution_count": 23,
      "outputs": [
        {
          "output_type": "stream",
          "name": "stdout",
          "text": [
            "Reading package lists... Done\n",
            "Building dependency tree       \n",
            "Reading state information... Done\n",
            "fonts-nanum is already the newest version (20180306-3).\n",
            "0 upgraded, 0 newly installed, 0 to remove and 23 not upgraded.\n",
            "/usr/share/fonts: caching, new cache contents: 0 fonts, 1 dirs\n",
            "/usr/share/fonts/truetype: caching, new cache contents: 0 fonts, 3 dirs\n",
            "/usr/share/fonts/truetype/humor-sans: caching, new cache contents: 1 fonts, 0 dirs\n",
            "/usr/share/fonts/truetype/liberation: caching, new cache contents: 16 fonts, 0 dirs\n",
            "/usr/share/fonts/truetype/nanum: caching, new cache contents: 10 fonts, 0 dirs\n",
            "/usr/local/share/fonts: caching, new cache contents: 0 fonts, 0 dirs\n",
            "/root/.local/share/fonts: skipping, no such directory\n",
            "/root/.fonts: skipping, no such directory\n",
            "/usr/share/fonts/truetype: skipping, looped directory detected\n",
            "/usr/share/fonts/truetype/humor-sans: skipping, looped directory detected\n",
            "/usr/share/fonts/truetype/liberation: skipping, looped directory detected\n",
            "/usr/share/fonts/truetype/nanum: skipping, looped directory detected\n",
            "/var/cache/fontconfig: cleaning cache directory\n",
            "/root/.cache/fontconfig: not cleaning non-existent cache directory\n",
            "/root/.fontconfig: not cleaning non-existent cache directory\n",
            "fc-cache: succeeded\n"
          ]
        }
      ]
    },
    {
      "cell_type": "code",
      "source": [
        "plt.rc('font', family='NanumBarunGothic')\n",
        "plt.rc('font', size=15)"
      ],
      "metadata": {
        "id": "LR8D6QphuLN2"
      },
      "execution_count": 24,
      "outputs": []
    },
    {
      "cell_type": "code",
      "source": [
        "# 요일별,시간대별 히트맵\n",
        "data = df4.pivot_table(index='yoil', columns='game_time', values='game_id', aggfunc=['count']) # aggfunc는 값에 적용해줄 함수\n",
        "data.index = ['월','화','수','목','금','토','일']\n",
        "data.columns = [i[1] for i in data.columns]"
      ],
      "metadata": {
        "id": "t1OcvBqsVC8r"
      },
      "execution_count": 25,
      "outputs": []
    },
    {
      "cell_type": "code",
      "source": [
        "plt.figure(figsize=(15,8))\n",
        "sns.heatmap(data.T,cmap='Blues', annot=True)\n",
        "plt.yticks(rotation='horizontal')\n",
        "plt.ylabel('경기 시간', fontsize=18, labelpad=40, rotation='horizontal')\n",
        "plt.xlabel('경기 요일', fontsize=18, labelpad=20)\n",
        "plt.show();"
      ],
      "metadata": {
        "colab": {
          "base_uri": "https://localhost:8080/",
          "height": 529
        },
        "id": "VucVWiyiTr0j",
        "outputId": "9246d896-3573-4996-be2e-86b294c65e51"
      },
      "execution_count": 26,
      "outputs": [
        {
          "output_type": "display_data",
          "data": {
            "text/plain": [
              "<Figure size 1080x576 with 2 Axes>"
            ],
            "image/png": "[encoded data removed]"
          },
          "metadata": {
            "needs_background": "light"
          }
        }
      ]
    },
    {
      "cell_type": "code",
      "source": [
        "# 요일과 시간별 경기 수\n",
        "group_day = df4.groupby(['yoil','game_time'])[['game_id']].count()\n",
        "group_day.reset_index(inplace=True)\n",
        "\n",
        "# 데이터가 월화수목금토일 순으로 정렬되도록\n",
        "group_day.sort_values(by='yoil',inplace=True)\n",
        "group_day.sort_values(by='game_time',inplace=True,ascending=False)\n",
        "\n",
        "\n",
        "plt.figure(figsize=(15,9))\n",
        "plt.scatter(group_day.yoil,\n",
        "            group_day.game_time,\n",
        "            s = group_day.game_id*100,\n",
        "            c = group_day.game_id,\n",
        "            cmap='Blues',\n",
        "            vmin =0,\n",
        "            vmax = group_day.game_id.max())\n",
        "plt.xticks(range(group_day['yoil'].nunique()),['월','화','수','목','금','토','일'])\n",
        "plt.colorbar()\n",
        "plt.ylabel('경기 시간', fontsize=18, labelpad=40, rotation='horizontal')\n",
        "plt.xlabel('경기 요일', fontsize=18, labelpad=20)\n",
        "plt.show();"
      ],
      "metadata": {
        "colab": {
          "base_uri": "https://localhost:8080/",
          "height": 583
        },
        "id": "C2nXtPil8oAq",
        "outputId": "efea1a4d-fc22-483a-ad5c-2147b7834f2d"
      },
      "execution_count": 27,
      "outputs": [
        {
          "output_type": "display_data",
          "data": {
            "text/plain": [
              "<Figure size 1080x648 with 2 Axes>"
            ],
            "image/png": "[encoded data removed]"
          },
          "metadata": {
            "needs_background": "light"
          }
        }
      ]
    },
    {
      "cell_type": "markdown",
      "source": [
        "**요일별 시간별 관객 수**"
      ],
      "metadata": {
        "id": "8j5iuCncnF-i"
      }
    },
    {
      "cell_type": "code",
      "source": [
        "# 요일,시간별 관객수\n",
        "group_day2 = df4.groupby(['yoil','game_time'])[['audience']].sum()\n",
        "group_day2.reset_index(inplace=True)\n",
        "\n",
        "# 데이터가 월화수목금토일 순으로 정렬되도록\n",
        "group_day2['yoil'].replace({'월':0,'화':1,'수':2,'목':3,'금':4,'토':5,'일':6},inplace=True)\n",
        "group_day2.sort_values(by='yoil',inplace=True)\n",
        "group_day2.sort_values(by='game_time',inplace=True,ascending=False)\n",
        "\n",
        "\n",
        "plt.figure(figsize=(15,9))\n",
        "plt.scatter(group_day2.yoil,\n",
        "            group_day2.game_time,\n",
        "            s = group_day2.audience/50,\n",
        "            c = group_day2.audience,\n",
        "            cmap='Blues',\n",
        "            vmin =0,\n",
        "            vmax = group_day2.audience.max())\n",
        "plt.xticks(range(group_day2['yoil'].nunique()),['월','화','수','목','금','토','일'])\n",
        "plt.colorbar()\n",
        "plt.ylabel('경기 시간', fontsize=18, labelpad=40, rotation='horizontal')\n",
        "plt.xlabel('경기 요일', fontsize=18, labelpad=20)\n",
        "plt.show();"
      ],
      "metadata": {
        "colab": {
          "base_uri": "https://localhost:8080/",
          "height": 583
        },
        "id": "Ir1C4QCFk1xD",
        "outputId": "cb8e2f93-8500-42cb-f75f-2eca8926ead6"
      },
      "execution_count": 28,
      "outputs": [
        {
          "output_type": "display_data",
          "data": {
            "text/plain": [
              "<Figure size 1080x648 with 2 Axes>"
            ],
            "image/png": "[encoded data removed]"
          },
          "metadata": {
            "needs_background": "light"
          }
        }
      ]
    }
  ]
}